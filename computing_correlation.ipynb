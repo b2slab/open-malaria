{
 "cells": [
  {
   "cell_type": "code",
   "execution_count": 31,
   "metadata": {
    "collapsed": true
   },
   "outputs": [],
   "source": [
    "from __future__ import absolute_import, division, print_function, unicode_literals\n",
    "import os\n",
    "import sys\n",
    "import pandas as pd\n",
    "from matplotlib import pyplot as plt\n",
    "from matplotlib import cm as cm\n",
    "import sklearn\n",
    "from scipy import stats\n",
    "import numpy as np"
   ]
  },
  {
   "cell_type": "markdown",
   "metadata": {},
   "source": [
    "# DrugBank"
   ]
  },
  {
   "cell_type": "code",
   "execution_count": 7,
   "metadata": {
    "collapsed": true
   },
   "outputs": [],
   "source": [
    "# Correlation for Drugbank results (xgboost probability - docking energy)\n",
    "db_activity = pd.read_csv(\"~/Open_Malaria_2/Open_Malaria_2/Listas_FPs/energias_FP_DB.csv\",  index_col=None, decimal=\".\", sep=\",\", na_values=\"ND\")"
   ]
  },
  {
   "cell_type": "code",
   "execution_count": 8,
   "metadata": {},
   "outputs": [
    {
     "data": {
      "text/html": [
       "<div>\n",
       "<table border=\"1\" class=\"dataframe\">\n",
       "  <thead>\n",
       "    <tr style=\"text-align: right;\">\n",
       "      <th></th>\n",
       "      <th>Unnamed: 0</th>\n",
       "      <th>ACTIVITY_PROBABILITY</th>\n",
       "      <th>DB_ID</th>\n",
       "      <th>MM_GBSA</th>\n",
       "    </tr>\n",
       "  </thead>\n",
       "  <tbody>\n",
       "    <tr>\n",
       "      <th>0</th>\n",
       "      <td>0</td>\n",
       "      <td>0.9318245649</td>\n",
       "      <td>DB08899</td>\n",
       "      <td>-38.3894</td>\n",
       "    </tr>\n",
       "    <tr>\n",
       "      <th>1</th>\n",
       "      <td>1</td>\n",
       "      <td>0.9156965017</td>\n",
       "      <td>DB07903</td>\n",
       "      <td>-37.3708</td>\n",
       "    </tr>\n",
       "    <tr>\n",
       "      <th>2</th>\n",
       "      <td>2</td>\n",
       "      <td>0.9130964279</td>\n",
       "      <td>DB06953</td>\n",
       "      <td>-55.5908</td>\n",
       "    </tr>\n",
       "    <tr>\n",
       "      <th>3</th>\n",
       "      <td>3</td>\n",
       "      <td>0.9098517895</td>\n",
       "      <td>DB02101</td>\n",
       "      <td>-23.3255</td>\n",
       "    </tr>\n",
       "    <tr>\n",
       "      <th>4</th>\n",
       "      <td>4</td>\n",
       "      <td>0.9054901004</td>\n",
       "      <td>DB01260</td>\n",
       "      <td>-41.6662</td>\n",
       "    </tr>\n",
       "    <tr>\n",
       "      <th>5</th>\n",
       "      <td>5</td>\n",
       "      <td>0.8845117688</td>\n",
       "      <td>DB01587</td>\n",
       "      <td>-39.2805</td>\n",
       "    </tr>\n",
       "    <tr>\n",
       "      <th>6</th>\n",
       "      <td>6</td>\n",
       "      <td>0.8798914552</td>\n",
       "      <td>DB07884</td>\n",
       "      <td>-37.4918</td>\n",
       "    </tr>\n",
       "    <tr>\n",
       "      <th>7</th>\n",
       "      <td>7</td>\n",
       "      <td>0.8741381168</td>\n",
       "      <td>DB03445</td>\n",
       "      <td>-32.3401</td>\n",
       "    </tr>\n",
       "    <tr>\n",
       "      <th>8</th>\n",
       "      <td>8</td>\n",
       "      <td>0.8635569811</td>\n",
       "      <td>DB02872</td>\n",
       "      <td>-42.0974</td>\n",
       "    </tr>\n",
       "    <tr>\n",
       "      <th>9</th>\n",
       "      <td>9</td>\n",
       "      <td>0.8574893475</td>\n",
       "      <td>DB04330</td>\n",
       "      <td>-46.5971</td>\n",
       "    </tr>\n",
       "    <tr>\n",
       "      <th>10</th>\n",
       "      <td>6526</td>\n",
       "      <td>7,54E+06</td>\n",
       "      <td>DB02685</td>\n",
       "      <td>-24.0011</td>\n",
       "    </tr>\n",
       "    <tr>\n",
       "      <th>11</th>\n",
       "      <td>6527</td>\n",
       "      <td>7,19E+05</td>\n",
       "      <td>DB08258</td>\n",
       "      <td>-25.3392</td>\n",
       "    </tr>\n",
       "    <tr>\n",
       "      <th>12</th>\n",
       "      <td>6528</td>\n",
       "      <td>7,14E+06</td>\n",
       "      <td>DB04836</td>\n",
       "      <td>-24.4059</td>\n",
       "    </tr>\n",
       "    <tr>\n",
       "      <th>13</th>\n",
       "      <td>6529</td>\n",
       "      <td>6,78E+06</td>\n",
       "      <td>DB02428</td>\n",
       "      <td>-22.5921</td>\n",
       "    </tr>\n",
       "    <tr>\n",
       "      <th>14</th>\n",
       "      <td>6530</td>\n",
       "      <td>6,56E+06</td>\n",
       "      <td>DB01460</td>\n",
       "      <td>-21.4969</td>\n",
       "    </tr>\n",
       "    <tr>\n",
       "      <th>15</th>\n",
       "      <td>6531</td>\n",
       "      <td>6,42E+06</td>\n",
       "      <td>DB01766</td>\n",
       "      <td>-21.3915</td>\n",
       "    </tr>\n",
       "    <tr>\n",
       "      <th>16</th>\n",
       "      <td>6532</td>\n",
       "      <td>6,40E+06</td>\n",
       "      <td>DB01591</td>\n",
       "      <td>-33.3668</td>\n",
       "    </tr>\n",
       "    <tr>\n",
       "      <th>17</th>\n",
       "      <td>6533</td>\n",
       "      <td>6,01E+06</td>\n",
       "      <td>DB08259</td>\n",
       "      <td>-29.2548</td>\n",
       "    </tr>\n",
       "    <tr>\n",
       "      <th>18</th>\n",
       "      <td>6534</td>\n",
       "      <td>5,44E+06</td>\n",
       "      <td>DB08385</td>\n",
       "      <td>-41.1290</td>\n",
       "    </tr>\n",
       "    <tr>\n",
       "      <th>19</th>\n",
       "      <td>6535</td>\n",
       "      <td>4,88E+06</td>\n",
       "      <td>DB00120</td>\n",
       "      <td>-19.9981</td>\n",
       "    </tr>\n",
       "  </tbody>\n",
       "</table>\n",
       "</div>"
      ],
      "text/plain": [
       "    Unnamed: 0 ACTIVITY_PROBABILITY    DB_ID  MM_GBSA\n",
       "0            0         0.9318245649  DB08899 -38.3894\n",
       "1            1         0.9156965017  DB07903 -37.3708\n",
       "2            2         0.9130964279  DB06953 -55.5908\n",
       "3            3         0.9098517895  DB02101 -23.3255\n",
       "4            4         0.9054901004  DB01260 -41.6662\n",
       "5            5         0.8845117688  DB01587 -39.2805\n",
       "6            6         0.8798914552  DB07884 -37.4918\n",
       "7            7         0.8741381168  DB03445 -32.3401\n",
       "8            8         0.8635569811  DB02872 -42.0974\n",
       "9            9         0.8574893475  DB04330 -46.5971\n",
       "10        6526             7,54E+06  DB02685 -24.0011\n",
       "11        6527             7,19E+05  DB08258 -25.3392\n",
       "12        6528             7,14E+06  DB04836 -24.4059\n",
       "13        6529             6,78E+06  DB02428 -22.5921\n",
       "14        6530             6,56E+06  DB01460 -21.4969\n",
       "15        6531             6,42E+06  DB01766 -21.3915\n",
       "16        6532             6,40E+06  DB01591 -33.3668\n",
       "17        6533             6,01E+06  DB08259 -29.2548\n",
       "18        6534             5,44E+06  DB08385 -41.1290\n",
       "19        6535             4,88E+06  DB00120 -19.9981"
      ]
     },
     "execution_count": 8,
     "metadata": {},
     "output_type": "execute_result"
    }
   ],
   "source": [
    "db_activity"
   ]
  },
  {
   "cell_type": "code",
   "execution_count": 13,
   "metadata": {},
   "outputs": [],
   "source": [
    "# First try: Sperman correlation\n",
    "spcor_db, pval_db = stats.spearmanr(db_activity.loc[:,'ACTIVITY_PROBABILITY'], db_activity.loc[:,'MM_GBSA'])"
   ]
  },
  {
   "cell_type": "code",
   "execution_count": 14,
   "metadata": {},
   "outputs": [
    {
     "data": {
      "text/plain": [
       "0.64661654135338342"
      ]
     },
     "execution_count": 14,
     "metadata": {},
     "output_type": "execute_result"
    }
   ],
   "source": [
    "spcor_db"
   ]
  },
  {
   "cell_type": "code",
   "execution_count": 15,
   "metadata": {},
   "outputs": [
    {
     "data": {
      "text/plain": [
       "0.002063821154359418"
      ]
     },
     "execution_count": 15,
     "metadata": {},
     "output_type": "execute_result"
    }
   ],
   "source": [
    "pval"
   ]
  },
  {
   "cell_type": "code",
   "execution_count": 19,
   "metadata": {},
   "outputs": [],
   "source": [
    "# Second try: drawing boxplots\n",
    "\n",
    "db_activity.ix[0:9,'ranking'] = 'top'\n",
    "db_activity.ix[10:19, 'ranking'] = 'bottom'"
   ]
  },
  {
   "cell_type": "code",
   "execution_count": 27,
   "metadata": {},
   "outputs": [
    {
     "data": {
      "image/png": "[encoded data removed]",
      "text/plain": [
       "<matplotlib.figure.Figure at 0x113c73d90>"
      ]
     },
     "metadata": {},
     "output_type": "display_data"
    }
   ],
   "source": [
    "fig = db_activity.boxplot('MM_GBSA', by='ranking')\n",
    "fig.get_figure().suptitle(\"\")\n",
    "plt.title(\"MM_GBSA vs ranking (Drugbank molecules)\")\n",
    "plt.show()"
   ]
  },
  {
   "cell_type": "code",
   "execution_count": 32,
   "metadata": {},
   "outputs": [
    {
     "name": "stdout",
     "output_type": "stream",
     "text": [
      "Var top: 64.3375854984\n"
     ]
    }
   ],
   "source": [
    "# Checking if equal variance\n",
    "\n",
    "var_db_top = np.var(pd.DataFrame(db_activity.ix[0:9,'MM_GBSA']).values)\n",
    "print(\"Var top:\", var_db_top)"
   ]
  },
  {
   "cell_type": "code",
   "execution_count": 33,
   "metadata": {},
   "outputs": [
    {
     "name": "stdout",
     "output_type": "stream",
     "text": [
      "Var bottom: 38.8990986304\n"
     ]
    }
   ],
   "source": [
    "var_db_bottom = np.var(pd.DataFrame(db_activity.ix[10:19,'MM_GBSA']).values)\n",
    "print(\"Var bottom:\", var_db_bottom)"
   ]
  },
  {
   "cell_type": "code",
   "execution_count": 54,
   "metadata": {
    "collapsed": true
   },
   "outputs": [],
   "source": [
    "# Wilcoxon test\n",
    "t_db, tprob_db = stats.ttest_ind(db_activity.ix[0:9,'MM_GBSA'], db_activity.ix[10:19,'MM_GBSA'], axis=0)"
   ]
  },
  {
   "cell_type": "code",
   "execution_count": 55,
   "metadata": {},
   "outputs": [
    {
     "data": {
      "text/plain": [
       "-3.8730460031794647"
      ]
     },
     "execution_count": 55,
     "metadata": {},
     "output_type": "execute_result"
    }
   ],
   "source": [
    "t_db"
   ]
  },
  {
   "cell_type": "code",
   "execution_count": 56,
   "metadata": {},
   "outputs": [
    {
     "data": {
      "text/plain": [
       "0.0011143833737701284"
      ]
     },
     "execution_count": 56,
     "metadata": {},
     "output_type": "execute_result"
    }
   ],
   "source": [
    "tprob_db"
   ]
  },
  {
   "cell_type": "markdown",
   "metadata": {},
   "source": [
    "# Marine molecules set 1"
   ]
  },
  {
   "cell_type": "code",
   "execution_count": 38,
   "metadata": {
    "collapsed": true
   },
   "outputs": [],
   "source": [
    "# Correlation for the first list of marine molecules \n",
    "mm1_activity = pd.read_csv(\"~/Open_Malaria_2/Open_Malaria_2/Listas_FPs/energias_FP_mm1.csv\",  index_col=None, decimal=\".\", sep=\",\", na_values=\"ND\")"
   ]
  },
  {
   "cell_type": "code",
   "execution_count": 39,
   "metadata": {},
   "outputs": [
    {
     "data": {
      "text/html": [
       "<div>\n",
       "<table border=\"1\" class=\"dataframe\">\n",
       "  <thead>\n",
       "    <tr style=\"text-align: right;\">\n",
       "      <th></th>\n",
       "      <th>Unnamed: 0</th>\n",
       "      <th>ACTIVITY_PROBABILITY</th>\n",
       "      <th>ID</th>\n",
       "      <th>MM_GBSA</th>\n",
       "    </tr>\n",
       "  </thead>\n",
       "  <tbody>\n",
       "    <tr>\n",
       "      <th>0</th>\n",
       "      <td>0</td>\n",
       "      <td>0.127604</td>\n",
       "      <td>Palmerolide-A</td>\n",
       "      <td>-57.8797</td>\n",
       "    </tr>\n",
       "    <tr>\n",
       "      <th>1</th>\n",
       "      <td>1</td>\n",
       "      <td>0.126537</td>\n",
       "      <td>Dendrinolide</td>\n",
       "      <td>-44.8962</td>\n",
       "    </tr>\n",
       "    <tr>\n",
       "      <th>2</th>\n",
       "      <td>2</td>\n",
       "      <td>0.071786</td>\n",
       "      <td>Membranolide</td>\n",
       "      <td>NaN</td>\n",
       "    </tr>\n",
       "    <tr>\n",
       "      <th>3</th>\n",
       "      <td>3</td>\n",
       "      <td>0.048513</td>\n",
       "      <td>Hodgsonal</td>\n",
       "      <td>-18.6712</td>\n",
       "    </tr>\n",
       "    <tr>\n",
       "      <th>4</th>\n",
       "      <td>4</td>\n",
       "      <td>0.043330</td>\n",
       "      <td>Suberitenone-A</td>\n",
       "      <td>-65.4205</td>\n",
       "    </tr>\n",
       "    <tr>\n",
       "      <th>5</th>\n",
       "      <td>22</td>\n",
       "      <td>0.001966</td>\n",
       "      <td>Caminatal.smi</td>\n",
       "      <td>-38.0834</td>\n",
       "    </tr>\n",
       "    <tr>\n",
       "      <th>6</th>\n",
       "      <td>23</td>\n",
       "      <td>0.001867</td>\n",
       "      <td>Fucostanol.smi</td>\n",
       "      <td>-65.1968</td>\n",
       "    </tr>\n",
       "    <tr>\n",
       "      <th>7</th>\n",
       "      <td>24</td>\n",
       "      <td>0.001507</td>\n",
       "      <td>Psammopemmin-A.smi</td>\n",
       "      <td>-36.2777</td>\n",
       "    </tr>\n",
       "    <tr>\n",
       "      <th>8</th>\n",
       "      <td>25</td>\n",
       "      <td>0.000945</td>\n",
       "      <td>3,5-dibromo-4-hydroxybenzaldehyde.smi</td>\n",
       "      <td>-23.7325</td>\n",
       "    </tr>\n",
       "    <tr>\n",
       "      <th>9</th>\n",
       "      <td>26</td>\n",
       "      <td>0.000132</td>\n",
       "      <td>Austrodoral.smi</td>\n",
       "      <td>-23.8462</td>\n",
       "    </tr>\n",
       "  </tbody>\n",
       "</table>\n",
       "</div>"
      ],
      "text/plain": [
       "   Unnamed: 0  ACTIVITY_PROBABILITY                                     ID  \\\n",
       "0           0              0.127604                          Palmerolide-A   \n",
       "1           1              0.126537                           Dendrinolide   \n",
       "2           2              0.071786                           Membranolide   \n",
       "3           3              0.048513                              Hodgsonal   \n",
       "4           4              0.043330                         Suberitenone-A   \n",
       "5          22              0.001966                          Caminatal.smi   \n",
       "6          23              0.001867                         Fucostanol.smi   \n",
       "7          24              0.001507                     Psammopemmin-A.smi   \n",
       "8          25              0.000945  3,5-dibromo-4-hydroxybenzaldehyde.smi   \n",
       "9          26              0.000132                        Austrodoral.smi   \n",
       "\n",
       "   MM_GBSA  \n",
       "0 -57.8797  \n",
       "1 -44.8962  \n",
       "2      NaN  \n",
       "3 -18.6712  \n",
       "4 -65.4205  \n",
       "5 -38.0834  \n",
       "6 -65.1968  \n",
       "7 -36.2777  \n",
       "8 -23.7325  \n",
       "9 -23.8462  "
      ]
     },
     "execution_count": 39,
     "metadata": {},
     "output_type": "execute_result"
    }
   ],
   "source": [
    "mm1_activity"
   ]
  },
  {
   "cell_type": "code",
   "execution_count": 46,
   "metadata": {},
   "outputs": [],
   "source": [
    "# removing 2nd row (NaN value)\n",
    "mm1_activity = mm1_activity.drop(2)"
   ]
  },
  {
   "cell_type": "code",
   "execution_count": 47,
   "metadata": {},
   "outputs": [],
   "source": [
    "#Spearman corr\n",
    "spcor_mm1, pval_mm1 = stats.spearmanr(mm1_activity.loc[:,'ACTIVITY_PROBABILITY'], mm1_activity.loc[:,'MM_GBSA'])"
   ]
  },
  {
   "cell_type": "code",
   "execution_count": 48,
   "metadata": {},
   "outputs": [
    {
     "data": {
      "text/plain": [
       "-0.38333333333333336"
      ]
     },
     "execution_count": 48,
     "metadata": {},
     "output_type": "execute_result"
    }
   ],
   "source": [
    "spcor_mm1"
   ]
  },
  {
   "cell_type": "code",
   "execution_count": 49,
   "metadata": {},
   "outputs": [
    {
     "data": {
      "text/plain": [
       "0.30849527238037144"
      ]
     },
     "execution_count": 49,
     "metadata": {},
     "output_type": "execute_result"
    }
   ],
   "source": [
    "pval_mm1"
   ]
  },
  {
   "cell_type": "code",
   "execution_count": 50,
   "metadata": {
    "collapsed": true
   },
   "outputs": [],
   "source": [
    "# Second try: drawing boxplots\n",
    "\n",
    "mm1_activity.ix[0:4,'ranking'] = 'top'\n",
    "mm1_activity.ix[5:9, 'ranking'] = 'bottom'"
   ]
  },
  {
   "cell_type": "code",
   "execution_count": 51,
   "metadata": {},
   "outputs": [
    {
     "data": {
      "image/png": "[encoded data removed]",
      "text/plain": [
       "<matplotlib.figure.Figure at 0x113d11750>"
      ]
     },
     "metadata": {},
     "output_type": "display_data"
    }
   ],
   "source": [
    "fig = mm1_activity.boxplot('MM_GBSA', by='ranking')\n",
    "fig.get_figure().suptitle(\"\")\n",
    "plt.title(\"MM_GBSA vs ranking (MM_old molecules)\")\n",
    "plt.show()"
   ]
  },
  {
   "cell_type": "code",
   "execution_count": 59,
   "metadata": {
    "collapsed": true
   },
   "outputs": [],
   "source": [
    "# Wilcoxon test\n",
    "t_mm1, tprob_mm1 = stats.ttest_ind(mm1_activity.ix[0:4,'MM_GBSA'], mm1_activity.ix[5:9,'MM_GBSA'], axis=0)"
   ]
  },
  {
   "cell_type": "code",
   "execution_count": 60,
   "metadata": {},
   "outputs": [
    {
     "data": {
      "text/plain": [
       "-0.74645290992016888"
      ]
     },
     "execution_count": 60,
     "metadata": {},
     "output_type": "execute_result"
    }
   ],
   "source": [
    "t_mm1"
   ]
  },
  {
   "cell_type": "code",
   "execution_count": 61,
   "metadata": {},
   "outputs": [
    {
     "data": {
      "text/plain": [
       "0.47970758915835499"
      ]
     },
     "execution_count": 61,
     "metadata": {},
     "output_type": "execute_result"
    }
   ],
   "source": [
    "tprob_mm1"
   ]
  },
  {
   "cell_type": "markdown",
   "metadata": {},
   "source": [
    "# Marine molecules set 2"
   ]
  },
  {
   "cell_type": "code",
   "execution_count": 52,
   "metadata": {
    "collapsed": true
   },
   "outputs": [],
   "source": [
    "# Correlation for the second list of marine molecules (proven to have activity against malaria - but we don't know to which target)\n",
    "mm2_activity = pd.read_csv(\"~/Open_Malaria_2/Open_Malaria_2/Listas_FPs/energias_FP_mm2.csv\",  index_col=None, decimal=\".\", sep=\",\", na_values=\"ND\")"
   ]
  },
  {
   "cell_type": "code",
   "execution_count": 53,
   "metadata": {},
   "outputs": [
    {
     "data": {
      "text/html": [
       "<div>\n",
       "<table border=\"1\" class=\"dataframe\">\n",
       "  <thead>\n",
       "    <tr style=\"text-align: right;\">\n",
       "      <th></th>\n",
       "      <th>Unnamed: 0</th>\n",
       "      <th>ACTIVITY_PROBABILITY</th>\n",
       "      <th>ID</th>\n",
       "      <th>MM_GBSA</th>\n",
       "    </tr>\n",
       "  </thead>\n",
       "  <tbody>\n",
       "    <tr>\n",
       "      <th>0</th>\n",
       "      <td>0</td>\n",
       "      <td>0.008469</td>\n",
       "      <td>coralloidolide-b</td>\n",
       "      <td>-33.3147</td>\n",
       "    </tr>\n",
       "    <tr>\n",
       "      <th>1</th>\n",
       "      <td>1</td>\n",
       "      <td>0.003559</td>\n",
       "      <td>coralloidolide-e</td>\n",
       "      <td>-31.3611</td>\n",
       "    </tr>\n",
       "    <tr>\n",
       "      <th>2</th>\n",
       "      <td>2</td>\n",
       "      <td>0.002693</td>\n",
       "      <td>austrodoris-1a</td>\n",
       "      <td>-49.8293</td>\n",
       "    </tr>\n",
       "    <tr>\n",
       "      <th>3</th>\n",
       "      <td>3</td>\n",
       "      <td>0.002128</td>\n",
       "      <td>paesslerin-a</td>\n",
       "      <td>-18.3213</td>\n",
       "    </tr>\n",
       "    <tr>\n",
       "      <th>4</th>\n",
       "      <td>4</td>\n",
       "      <td>0.001237</td>\n",
       "      <td>austrodoris-3a</td>\n",
       "      <td>-47.2660</td>\n",
       "    </tr>\n",
       "    <tr>\n",
       "      <th>5</th>\n",
       "      <td>7</td>\n",
       "      <td>0.000330</td>\n",
       "      <td>lignarenone-b</td>\n",
       "      <td>-32.4840</td>\n",
       "    </tr>\n",
       "    <tr>\n",
       "      <th>6</th>\n",
       "      <td>8</td>\n",
       "      <td>0.000319</td>\n",
       "      <td>austrodoris-5</td>\n",
       "      <td>-45.8440</td>\n",
       "    </tr>\n",
       "    <tr>\n",
       "      <th>7</th>\n",
       "      <td>9</td>\n",
       "      <td>0.000219</td>\n",
       "      <td>austrodoris-2</td>\n",
       "      <td>-48.3543</td>\n",
       "    </tr>\n",
       "    <tr>\n",
       "      <th>8</th>\n",
       "      <td>10</td>\n",
       "      <td>0.000145</td>\n",
       "      <td>austrodoris-3b</td>\n",
       "      <td>-42.6038</td>\n",
       "    </tr>\n",
       "    <tr>\n",
       "      <th>9</th>\n",
       "      <td>11</td>\n",
       "      <td>0.000134</td>\n",
       "      <td>austrodoris-4</td>\n",
       "      <td>-67.5120</td>\n",
       "    </tr>\n",
       "  </tbody>\n",
       "</table>\n",
       "</div>"
      ],
      "text/plain": [
       "   Unnamed: 0  ACTIVITY_PROBABILITY                ID  MM_GBSA\n",
       "0           0              0.008469  coralloidolide-b -33.3147\n",
       "1           1              0.003559  coralloidolide-e -31.3611\n",
       "2           2              0.002693    austrodoris-1a -49.8293\n",
       "3           3              0.002128      paesslerin-a -18.3213\n",
       "4           4              0.001237    austrodoris-3a -47.2660\n",
       "5           7              0.000330     lignarenone-b -32.4840\n",
       "6           8              0.000319     austrodoris-5 -45.8440\n",
       "7           9              0.000219     austrodoris-2 -48.3543\n",
       "8          10              0.000145    austrodoris-3b -42.6038\n",
       "9          11              0.000134     austrodoris-4 -67.5120"
      ]
     },
     "execution_count": 53,
     "metadata": {},
     "output_type": "execute_result"
    }
   ],
   "source": [
    "mm2_activity"
   ]
  },
  {
   "cell_type": "code",
   "execution_count": 62,
   "metadata": {
    "collapsed": true
   },
   "outputs": [],
   "source": [
    "#Spearman corr\n",
    "spcor_mm2, pval_mm2 = stats.spearmanr(mm2_activity.loc[:,'ACTIVITY_PROBABILITY'], mm2_activity.loc[:,'MM_GBSA'])"
   ]
  },
  {
   "cell_type": "code",
   "execution_count": 63,
   "metadata": {},
   "outputs": [
    {
     "data": {
      "text/plain": [
       "0.49090909090909085"
      ]
     },
     "execution_count": 63,
     "metadata": {},
     "output_type": "execute_result"
    }
   ],
   "source": [
    "spcor_mm2"
   ]
  },
  {
   "cell_type": "code",
   "execution_count": 64,
   "metadata": {},
   "outputs": [
    {
     "data": {
      "text/plain": [
       "0.14965567342083677"
      ]
     },
     "execution_count": 64,
     "metadata": {},
     "output_type": "execute_result"
    }
   ],
   "source": [
    "pval_mm2"
   ]
  },
  {
   "cell_type": "code",
   "execution_count": 66,
   "metadata": {
    "collapsed": true
   },
   "outputs": [],
   "source": [
    "# Second try: drawing boxplots\n",
    "\n",
    "mm2_activity.ix[0:4,'ranking'] = 'top'\n",
    "mm2_activity.ix[5:9, 'ranking'] = 'bottom'"
   ]
  },
  {
   "cell_type": "code",
   "execution_count": 67,
   "metadata": {},
   "outputs": [
    {
     "data": {
      "image/png": "[encoded data removed]",
      "text/plain": [
       "<matplotlib.figure.Figure at 0x1139ace90>"
      ]
     },
     "metadata": {},
     "output_type": "display_data"
    }
   ],
   "source": [
    "fig = mm2_activity.boxplot('MM_GBSA', by='ranking')\n",
    "fig.get_figure().suptitle(\"\")\n",
    "plt.title(\"MM_GBSA vs ranking (MM_new molecules)\")\n",
    "plt.show()"
   ]
  },
  {
   "cell_type": "code",
   "execution_count": 68,
   "metadata": {
    "collapsed": true
   },
   "outputs": [],
   "source": [
    "# Wilcoxon test\n",
    "t_mm2, tprob_mm2 = stats.ttest_ind(mm2_activity.ix[0:4,'MM_GBSA'], mm2_activity.ix[5:9,'MM_GBSA'], axis=0)"
   ]
  },
  {
   "cell_type": "code",
   "execution_count": 69,
   "metadata": {},
   "outputs": [
    {
     "data": {
      "text/plain": [
       "1.399850572181274"
      ]
     },
     "execution_count": 69,
     "metadata": {},
     "output_type": "execute_result"
    }
   ],
   "source": [
    "t_mm2"
   ]
  },
  {
   "cell_type": "code",
   "execution_count": 70,
   "metadata": {},
   "outputs": [
    {
     "data": {
      "text/plain": [
       "0.19912248818044301"
      ]
     },
     "execution_count": 70,
     "metadata": {},
     "output_type": "execute_result"
    }
   ],
   "source": [
    "tprob_mm2"
   ]
  },
  {
   "cell_type": "code",
   "execution_count": null,
   "metadata": {
    "collapsed": true
   },
   "outputs": [],
   "source": []
  }
 ],
 "metadata": {
  "kernelspec": {
   "display_name": "malaria",
   "language": "python",
   "name": "malaria"
  },
  "language_info": {
   "codemirror_mode": {
    "name": "ipython",
    "version": 2
   },
   "file_extension": ".py",
   "mimetype": "text/x-python",
   "name": "python",
   "nbconvert_exporter": "python",
   "pygments_lexer": "ipython2",
   "version": "2.7.13"
  }
 },
 "nbformat": 4,
 "nbformat_minor": 2
}
